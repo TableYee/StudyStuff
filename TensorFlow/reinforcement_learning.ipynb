{
 "cells": [
  {
   "cell_type": "code",
   "execution_count": 1,
   "metadata": {},
   "outputs": [],
   "source": [
    "import gym\n",
    "import numpy as np\n",
    "import time"
   ]
  },
  {
   "cell_type": "code",
   "execution_count": 2,
   "metadata": {},
   "outputs": [],
   "source": [
    "env = gym.make(\"FrozenLake-v1\", new_step_api=True)\n",
    "STATES = env.observation_space.n\n",
    "ACTIONS = env.action_space.n\n",
    "\n",
    "Q = np.zeros((STATES, ACTIONS))\n",
    "\n",
    "EPISODES = 3000\n",
    "MAX_STEPS = 100\n",
    "\n",
    "LEARNING_RATE = 0.81\n",
    "DISCOUNT_FACTOR = 0.96\n",
    "\n",
    "RENDER = False\n",
    "\n",
    "epsilon = 0.9 # 처음엔 90%로 높게 잡고 나중으로 가면 갈수록 낮게 함"
   ]
  },
  {
   "cell_type": "code",
   "execution_count": 3,
   "metadata": {},
   "outputs": [
    {
     "ename": "NameError",
     "evalue": "name 'state' is not defined",
     "output_type": "error",
     "traceback": [
      "\u001b[0;31m---------------------------------------------------------------------------\u001b[0m",
      "\u001b[0;31mNameError\u001b[0m                                 Traceback (most recent call last)",
      "\u001b[1;32m/Users/euncheolj/Downloads/StudyStuff/TensorFlow/reinforcement_learning.ipynb Cell 3'\u001b[0m in \u001b[0;36m<cell line: 8>\u001b[0;34m()\u001b[0m\n\u001b[1;32m      <a href='vscode-notebook-cell:/Users/euncheolj/Downloads/StudyStuff/TensorFlow/reinforcement_learning.ipynb#ch0000005?line=4'>5</a>\u001b[0m     action \u001b[39m=\u001b[39m np\u001b[39m.\u001b[39margmax(Q[state, :]) \u001b[39m# 제일 높은 reward를 가진 action을 고름, : = Q[state]안에 모든 값\u001b[39;00m\n\u001b[1;32m      <a href='vscode-notebook-cell:/Users/euncheolj/Downloads/StudyStuff/TensorFlow/reinforcement_learning.ipynb#ch0000005?line=6'>7</a>\u001b[0m \u001b[39m# reward 공식\u001b[39;00m\n\u001b[0;32m----> <a href='vscode-notebook-cell:/Users/euncheolj/Downloads/StudyStuff/TensorFlow/reinforcement_learning.ipynb#ch0000005?line=7'>8</a>\u001b[0m Q[state, action] \u001b[39m=\u001b[39m Q[state, action] \u001b[39m+\u001b[39m LEARNING_RATE \u001b[39m*\u001b[39m (new_state_reward \u001b[39m+\u001b[39m DISCOUNT_FACTOR \u001b[39m*\u001b[39m np\u001b[39m.\u001b[39mmax(Q[new_state, :]) \u001b[39m-\u001b[39m Q[state, action])\n",
      "\u001b[0;31mNameError\u001b[0m: name 'state' is not defined"
     ]
    }
   ],
   "source": [
    "#설명\n",
    "if np.random.uniform(0,1) < epsilon: # 0,1 사이에서 랜덤 값 < epsilon\n",
    "    action = env.action_space.sample() # 랜덤으로 action을 고름\n",
    "else:\n",
    "    action = np.argmax(Q[state, :]) # 제일 높은 reward를 가진 action을 고름, : = Q[state]안에 모든 값\n",
    "\n",
    "# reward 공식\n",
    "Q[state, action] = Q[state, action] + LEARNING_RATE * (new_state_reward + DISCOUNT_FACTOR * np.max(Q[new_state, :]) - Q[state, action])\n"
   ]
  },
  {
   "cell_type": "code",
   "execution_count": null,
   "metadata": {},
   "outputs": [
    {
     "name": "stdout",
     "output_type": "stream",
     "text": [
      "[[2.27904854e-01 2.46426161e-02 2.29786882e-02 2.53178034e-02]\n",
      " [2.83014098e-03 7.71196612e-03 8.05358200e-03 1.23836940e-01]\n",
      " [8.79573223e-03 5.79909542e-03 4.60587963e-03 8.87436442e-02]\n",
      " [2.81368959e-03 2.09188634e-03 2.03269412e-03 9.06268408e-02]\n",
      " [3.14416044e-01 4.99749337e-03 1.06336310e-02 6.46220381e-03]\n",
      " [0.00000000e+00 0.00000000e+00 0.00000000e+00 0.00000000e+00]\n",
      " [4.75425441e-05 2.07949008e-05 1.46799101e-01 3.69812108e-05]\n",
      " [0.00000000e+00 0.00000000e+00 0.00000000e+00 0.00000000e+00]\n",
      " [8.07080802e-03 1.38028550e-02 5.14783244e-03 5.76679333e-01]\n",
      " [8.94288333e-03 8.73786251e-01 5.56372066e-03 6.55659527e-03]\n",
      " [1.78461040e-01 6.34979369e-04 1.16928979e-03 4.22346835e-04]\n",
      " [0.00000000e+00 0.00000000e+00 0.00000000e+00 0.00000000e+00]\n",
      " [0.00000000e+00 0.00000000e+00 0.00000000e+00 0.00000000e+00]\n",
      " [7.75950745e-02 3.74161482e-02 7.48731161e-01 3.85074666e-02]\n",
      " [2.14861209e-01 8.18912975e-01 7.46944252e-02 1.14582247e-01]\n",
      " [0.00000000e+00 0.00000000e+00 0.00000000e+00 0.00000000e+00]]\n",
      "0.553972212326327\n",
      "0.0\n"
     ]
    }
   ],
   "source": [
    "rewards = [] # agent가 죽었을때 = 0 살았을때 = 1\n",
    "for episode in range(EPISODES):\n",
    "\n",
    "    state = env.reset()\n",
    "    for _ in range(MAX_STEPS):\n",
    "\n",
    "        if RENDER:\n",
    "            env.render()\n",
    "        \n",
    "        if np.random.uniform(0,1) < epsilon:\n",
    "            action = env.action_space.sample()\n",
    "        else:\n",
    "            action = np.argmax(Q[state, :])\n",
    "        \n",
    "        next_state, reward, done, _, _ = env.step(action)\n",
    "\n",
    "        Q[state, action] = Q[state, action] + LEARNING_RATE * (reward + DISCOUNT_FACTOR * np.max(Q[next_state, :]) - Q[state, action])\n",
    "\n",
    "        state = next_state\n",
    "\n",
    "        if done:\n",
    "            rewards.append(reward)\n",
    "            epsilon-=0.001\n",
    "            break #죽거나 꺰\n",
    "print(Q)\n",
    "print(sum(rewards)/len(rewards))"
   ]
  },
  {
   "cell_type": "code",
   "execution_count": null,
   "metadata": {},
   "outputs": [
    {
     "data": {
      "image/png": "[encoded data removed]",
      "text/plain": [
       "<Figure size 432x288 with 1 Axes>"
      ]
     },
     "metadata": {
      "needs_background": "light"
     },
     "output_type": "display_data"
    }
   ],
   "source": [
    "import matplotlib.pyplot as plt\n",
    "\n",
    "def get_average(values):\n",
    "    return sum(values)/len(values)\n",
    "\n",
    "avg_rewards = []\n",
    "for i in range(0, len(rewards), 100):\n",
    "    avg_rewards.append(get_average(rewards[i:i+100]))\n",
    "\n",
    "plt.plot(avg_rewards)\n",
    "plt.ylabel('average reward')\n",
    "plt.xlabel('episodes (100\\'s)')\n",
    "plt.show()"
   ]
  },
  {
   "cell_type": "code",
   "execution_count": 4,
   "metadata": {},
   "outputs": [
    {
     "name": "stderr",
     "output_type": "stream",
     "text": [
      "/usr/local/lib/python3.9/site-packages/gym/core.py:57: DeprecationWarning: \u001b[33mWARN: You are calling render method, but you didn't specified the argument render_mode at environment initialization. To maintain backward compatibility, the environment will render in human mode.\n",
      "If you want to render in human mode, initialize the environment in this way: gym.make('EnvName', render_mode='human') and don't call the render method.\n",
      "See here for more information: https://www.gymlibrary.ml/content/api/\u001b[0m\n",
      "  deprecation(\n"
     ]
    },
    {
     "ename": "",
     "evalue": "",
     "output_type": "error",
     "traceback": [
      "\u001b[1;31mThe Kernel crashed while executing code in the the current cell or a previous cell. Please review the code in the cell(s) to identify a possible cause of the failure. Click <a href='https://aka.ms/vscodeJupyterKernelCrash'>here</a> for more info. View Jupyter <a href='command:jupyter.viewOutput'>log</a> for further details."
     ]
    }
   ],
   "source": [
    "for episode in range(10):\n",
    "\n",
    "    state = env.reset()\n",
    "    for _ in range(MAX_STEPS):\n",
    "\n",
    "        env.render()\n",
    "        time.sleep(0.3)\n",
    "        \n",
    "        if np.random.uniform(0,1) < epsilon:\n",
    "            action = env.action_space.sample()\n",
    "        else:\n",
    "            action = np.argmax(Q[state, :])\n",
    "        \n",
    "        next_state, reward, done, _, _ = env.step(action)\n",
    "\n",
    "        state = next_state\n",
    "\n",
    "        if done:\n",
    "            if reward:\n",
    "                print(\"yay!\")\n",
    "            break #죽거나 꺰\n",
    "env.close()"
   ]
  }
 ],
 "metadata": {
  "kernelspec": {
   "display_name": "Python 3.9.13 64-bit",
   "language": "python",
   "name": "python3"
  },
  "language_info": {
   "codemirror_mode": {
    "name": "ipython",
    "version": 3
   },
   "file_extension": ".py",
   "mimetype": "text/x-python",
   "name": "python",
   "nbconvert_exporter": "python",
   "pygments_lexer": "ipython3",
   "version": "3.9.13"
  },
  "orig_nbformat": 4,
  "vscode": {
   "interpreter": {
    "hash": "aee8b7b246df8f9039afb4144a1f6fd8d2ca17a180786b69acc140d282b71a49"
   }
  }
 },
 "nbformat": 4,
 "nbformat_minor": 2
}
