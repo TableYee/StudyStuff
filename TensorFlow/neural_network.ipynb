{
 "cells": [
  {
   "cell_type": "code",
   "execution_count": null,
   "metadata": {},
   "outputs": [],
   "source": [
    "from __future__ import absolute_import, division, print_function, unicode_literals\n",
    "\n",
    "\n",
    "import pandas as pd\n",
    "import numpy\n",
    "from IPython import display\n",
    "def clear_output():\n",
    "    display.clear_output(wait=True)\n",
    "    sleep(0.01)\n",
    "\n",
    "import tensorflow as tf"
   ]
  }
 ],
 "metadata": {
  "language_info": {
   "name": "python"
  },
  "orig_nbformat": 4
 },
 "nbformat": 4,
 "nbformat_minor": 2
}
